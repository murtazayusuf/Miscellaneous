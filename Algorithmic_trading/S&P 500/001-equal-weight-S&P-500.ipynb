{
 "cells": [
  {
   "cell_type": "code",
   "execution_count": 1,
   "metadata": {},
   "outputs": [],
   "source": [
    "import numpy as np \r\n",
    "import pandas as pd\r\n",
    "import requests\r\n",
    "import xlsxwriter\r\n",
    "import math"
   ]
  },
  {
   "cell_type": "code",
   "execution_count": 2,
   "metadata": {},
   "outputs": [],
   "source": [
    "stocks = pd.read_csv('sp_500_stocks.csv')"
   ]
  },
  {
   "cell_type": "markdown",
   "metadata": {},
   "source": [
    "*Acquiring an API Token*"
   ]
  },
  {
   "cell_type": "code",
   "execution_count": 6,
   "metadata": {},
   "outputs": [],
   "source": [
    "from secret import IEX_CLOUD_API_TOKEN"
   ]
  },
  {
   "cell_type": "markdown",
   "metadata": {},
   "source": [
    "making an api call"
   ]
  },
  {
   "cell_type": "code",
   "execution_count": 13,
   "metadata": {},
   "outputs": [
    {
     "data": {
      "text/plain": "'https://sandbox.iexapis.com/stable/stock/AAPL/quote/?token=Tpk_059b97af715d417d9f49f50b51b1c448'"
     },
     "execution_count": 13,
     "metadata": {},
     "output_type": "execute_result"
    }
   ],
   "source": [
    "symbol = \"AAPL\"\r\n",
    "api_url = f'https://sandbox.iexapis.com/stable/stock/{symbol}/quote/?token={IEX_CLOUD_API_TOKEN}'\r\n",
    "api_url"
   ]
  },
  {
   "cell_type": "code",
   "execution_count": 17,
   "metadata": {},
   "outputs": [
    {
     "name": "stdout",
     "output_type": "stream",
     "text": [
      "AAPL\n"
     ]
    }
   ],
   "source": [
    "data = requests.get(api_url).json()\r\n",
    "print(data['symbol'])"
   ]
  },
  {
   "cell_type": "code",
   "execution_count": 19,
   "metadata": {},
   "outputs": [
    {
     "name": "stdout",
     "output_type": "stream",
     "text": [
      "2.017625600407\n"
     ]
    }
   ],
   "source": [
    "price = data['latestPrice']\r\n",
    "market_cap = data['marketCap']\r\n",
    "print(market_cap/1000000000000)"
   ]
  },
  {
   "cell_type": "markdown",
   "metadata": {},
   "source": [
    "adding our stocks data to a pandas dataframe"
   ]
  },
  {
   "cell_type": "code",
   "execution_count": 21,
   "metadata": {},
   "outputs": [
    {
     "data": {
      "text/html": "<div>\n<style scoped>\n    .dataframe tbody tr th:only-of-type {\n        vertical-align: middle;\n    }\n\n    .dataframe tbody tr th {\n        vertical-align: top;\n    }\n\n    .dataframe thead th {\n        text-align: right;\n    }\n</style>\n<table border=\"1\" class=\"dataframe\">\n  <thead>\n    <tr style=\"text-align: right;\">\n      <th></th>\n      <th>Ticker</th>\n      <th>Stock Price</th>\n      <th>Market Capitalisation</th>\n      <th>Number of Shares to Buy</th>\n    </tr>\n  </thead>\n  <tbody>\n  </tbody>\n</table>\n</div>",
      "text/plain": "Empty DataFrame\nColumns: [Ticker, Stock Price, Market Capitalisation, Number of Shares to Buy]\nIndex: []"
     },
     "execution_count": 21,
     "metadata": {},
     "output_type": "execute_result"
    }
   ],
   "source": [
    "my_columns = ['Ticker', 'Stock Price', 'Market Capitalisation', 'Number of Shares to Buy']\r\n",
    "final_dataframe = pd.DataFrame(columns=my_columns)\r\n",
    "final_dataframe"
   ]
  },
  {
   "cell_type": "code",
   "execution_count": 24,
   "metadata": {},
   "outputs": [
    {
     "data": {
      "text/html": "<div>\n<style scoped>\n    .dataframe tbody tr th:only-of-type {\n        vertical-align: middle;\n    }\n\n    .dataframe tbody tr th {\n        vertical-align: top;\n    }\n\n    .dataframe thead th {\n        text-align: right;\n    }\n</style>\n<table border=\"1\" class=\"dataframe\">\n  <thead>\n    <tr style=\"text-align: right;\">\n      <th></th>\n      <th>Ticker</th>\n      <th>Stock Price</th>\n      <th>Market Capitalisation</th>\n      <th>Number of Shares to Buy</th>\n    </tr>\n  </thead>\n  <tbody>\n    <tr>\n      <th>0</th>\n      <td>AAPL</td>\n      <td>125.414</td>\n      <td>2017625600407</td>\n      <td>N/A</td>\n    </tr>\n  </tbody>\n</table>\n</div>",
      "text/plain": "  Ticker  Stock Price Market Capitalisation Number of Shares to Buy\n0   AAPL      125.414         2017625600407                     N/A"
     },
     "execution_count": 24,
     "metadata": {},
     "output_type": "execute_result"
    }
   ],
   "source": [
    "final_dataframe.append(\r\n",
    "    pd.Series(\r\n",
    "        [\r\n",
    "            symbol, \r\n",
    "            price,\r\n",
    "            market_cap,\r\n",
    "            'N/A'\r\n",
    "        ],\r\n",
    "    index = my_columns\r\n",
    "    ),\r\n",
    "    ignore_index=True\r\n",
    ")"
   ]
  },
  {
   "cell_type": "code",
   "execution_count": 30,
   "metadata": {},
   "outputs": [],
   "source": [
    "final_dataframe = pd.DataFrame(columns=my_columns)\r\n",
    "for stock in stocks['Ticker']:\r\n",
    "    api_url = f'https://sandbox.iexapis.com/stable/stock/{stock}/quote/?token={IEX_CLOUD_API_TOKEN}'\r\n",
    "    data = requests.get(api_url).json()\r\n",
    "    final_dataframe = final_dataframe.append(\r\n",
    "        pd.Series(\r\n",
    "            [\r\n",
    "                stock, \r\n",
    "                data['latestPrice'],\r\n",
    "                data['marketCap'],\r\n",
    "                'N/A'\r\n",
    "            ],\r\n",
    "            index= my_columns\r\n",
    "        ),\r\n",
    "        ignore_index=True\r\n",
    "    )"
   ]
  },
  {
   "cell_type": "code",
   "execution_count": 31,
   "metadata": {},
   "outputs": [
    {
     "data": {
      "text/html": "<div>\n<style scoped>\n    .dataframe tbody tr th:only-of-type {\n        vertical-align: middle;\n    }\n\n    .dataframe tbody tr th {\n        vertical-align: top;\n    }\n\n    .dataframe thead th {\n        text-align: right;\n    }\n</style>\n<table border=\"1\" class=\"dataframe\">\n  <thead>\n    <tr style=\"text-align: right;\">\n      <th></th>\n      <th>Ticker</th>\n      <th>Stock Price</th>\n      <th>Market Capitalisation</th>\n      <th>Number of Shares to Buy</th>\n    </tr>\n  </thead>\n  <tbody>\n    <tr>\n      <th>0</th>\n      <td>A</td>\n      <td>126.96</td>\n      <td>39711128125</td>\n      <td>N/A</td>\n    </tr>\n    <tr>\n      <th>1</th>\n      <td>AAL</td>\n      <td>24.45</td>\n      <td>15842724574</td>\n      <td>N/A</td>\n    </tr>\n    <tr>\n      <th>2</th>\n      <td>AAP</td>\n      <td>188.46</td>\n      <td>12362686579</td>\n      <td>N/A</td>\n    </tr>\n    <tr>\n      <th>3</th>\n      <td>AAPL</td>\n      <td>120.49</td>\n      <td>2099506328081</td>\n      <td>N/A</td>\n    </tr>\n    <tr>\n      <th>4</th>\n      <td>ABBV</td>\n      <td>110.20</td>\n      <td>195415124373</td>\n      <td>N/A</td>\n    </tr>\n    <tr>\n      <th>...</th>\n      <td>...</td>\n      <td>...</td>\n      <td>...</td>\n      <td>...</td>\n    </tr>\n    <tr>\n      <th>500</th>\n      <td>YUM</td>\n      <td>114.67</td>\n      <td>34785368857</td>\n      <td>N/A</td>\n    </tr>\n    <tr>\n      <th>501</th>\n      <td>ZBH</td>\n      <td>164.11</td>\n      <td>34057764632</td>\n      <td>N/A</td>\n    </tr>\n    <tr>\n      <th>502</th>\n      <td>ZBRA</td>\n      <td>476.71</td>\n      <td>25791672075</td>\n      <td>N/A</td>\n    </tr>\n    <tr>\n      <th>503</th>\n      <td>ZION</td>\n      <td>56.98</td>\n      <td>9090320267</td>\n      <td>N/A</td>\n    </tr>\n    <tr>\n      <th>504</th>\n      <td>ZTS</td>\n      <td>161.00</td>\n      <td>76106975815</td>\n      <td>N/A</td>\n    </tr>\n  </tbody>\n</table>\n<p>505 rows × 4 columns</p>\n</div>",
      "text/plain": "    Ticker  Stock Price Market Capitalisation Number of Shares to Buy\n0        A       126.96           39711128125                     N/A\n1      AAL        24.45           15842724574                     N/A\n2      AAP       188.46           12362686579                     N/A\n3     AAPL       120.49         2099506328081                     N/A\n4     ABBV       110.20          195415124373                     N/A\n..     ...          ...                   ...                     ...\n500    YUM       114.67           34785368857                     N/A\n501    ZBH       164.11           34057764632                     N/A\n502   ZBRA       476.71           25791672075                     N/A\n503   ZION        56.98            9090320267                     N/A\n504    ZTS       161.00           76106975815                     N/A\n\n[505 rows x 4 columns]"
     },
     "execution_count": 31,
     "metadata": {},
     "output_type": "execute_result"
    }
   ],
   "source": [
    "final_dataframe"
   ]
  },
  {
   "cell_type": "markdown",
   "metadata": {},
   "source": [
    "Batch API Call"
   ]
  },
  {
   "cell_type": "code",
   "execution_count": 34,
   "metadata": {},
   "outputs": [],
   "source": [
    "def chunks(lst, n):\r\n",
    "    for i in range(0, len(lst), n):\r\n",
    "        yield lst[i:i+n]"
   ]
  },
  {
   "cell_type": "code",
   "execution_count": 45,
   "metadata": {},
   "outputs": [
    {
     "data": {
      "text/html": "<div>\n<style scoped>\n    .dataframe tbody tr th:only-of-type {\n        vertical-align: middle;\n    }\n\n    .dataframe tbody tr th {\n        vertical-align: top;\n    }\n\n    .dataframe thead th {\n        text-align: right;\n    }\n</style>\n<table border=\"1\" class=\"dataframe\">\n  <thead>\n    <tr style=\"text-align: right;\">\n      <th></th>\n      <th>Ticker</th>\n      <th>Stock Price</th>\n      <th>Market Capitalisation</th>\n      <th>Number of Shares to Buy</th>\n    </tr>\n  </thead>\n  <tbody>\n    <tr>\n      <th>0</th>\n      <td>A</td>\n      <td>127.600</td>\n      <td>39795931133</td>\n      <td>N/A</td>\n    </tr>\n    <tr>\n      <th>1</th>\n      <td>AAL</td>\n      <td>24.730</td>\n      <td>15782362018</td>\n      <td>N/A</td>\n    </tr>\n    <tr>\n      <th>2</th>\n      <td>AAP</td>\n      <td>189.820</td>\n      <td>12425149917</td>\n      <td>N/A</td>\n    </tr>\n    <tr>\n      <th>3</th>\n      <td>AAPL</td>\n      <td>122.460</td>\n      <td>2017150221157</td>\n      <td>N/A</td>\n    </tr>\n    <tr>\n      <th>4</th>\n      <td>ABBV</td>\n      <td>111.250</td>\n      <td>195310630613</td>\n      <td>N/A</td>\n    </tr>\n    <tr>\n      <th>...</th>\n      <td>...</td>\n      <td>...</td>\n      <td>...</td>\n      <td>...</td>\n    </tr>\n    <tr>\n      <th>500</th>\n      <td>YUM</td>\n      <td>110.440</td>\n      <td>33613786569</td>\n      <td>N/A</td>\n    </tr>\n    <tr>\n      <th>501</th>\n      <td>ZBH</td>\n      <td>166.210</td>\n      <td>34307958353</td>\n      <td>N/A</td>\n    </tr>\n    <tr>\n      <th>502</th>\n      <td>ZBRA</td>\n      <td>474.563</td>\n      <td>26367444858</td>\n      <td>N/A</td>\n    </tr>\n    <tr>\n      <th>503</th>\n      <td>ZION</td>\n      <td>55.500</td>\n      <td>9419864944</td>\n      <td>N/A</td>\n    </tr>\n    <tr>\n      <th>504</th>\n      <td>ZTS</td>\n      <td>157.740</td>\n      <td>78080589693</td>\n      <td>N/A</td>\n    </tr>\n  </tbody>\n</table>\n<p>505 rows × 4 columns</p>\n</div>",
      "text/plain": "    Ticker  Stock Price Market Capitalisation Number of Shares to Buy\n0        A      127.600           39795931133                     N/A\n1      AAL       24.730           15782362018                     N/A\n2      AAP      189.820           12425149917                     N/A\n3     AAPL      122.460         2017150221157                     N/A\n4     ABBV      111.250          195310630613                     N/A\n..     ...          ...                   ...                     ...\n500    YUM      110.440           33613786569                     N/A\n501    ZBH      166.210           34307958353                     N/A\n502   ZBRA      474.563           26367444858                     N/A\n503   ZION       55.500            9419864944                     N/A\n504    ZTS      157.740           78080589693                     N/A\n\n[505 rows x 4 columns]"
     },
     "execution_count": 45,
     "metadata": {},
     "output_type": "execute_result"
    }
   ],
   "source": [
    "symbol_groups = list(chunks(stocks['Ticker'], 100))\r\n",
    "symbol_strings = []\r\n",
    "for i in range(0, len(symbol_groups)):\r\n",
    "    symbol_strings.append(','.join(symbol_groups[i]))\r\n",
    "    \r\n",
    "final_dataframe = pd.DataFrame(columns=my_columns)\r\n",
    "\r\n",
    "for symbol_string in symbol_strings:\r\n",
    "    batch_api_call_url = f'https://sandbox.iexapis.com/stable/stock/market/batch?types=quote&symbols={symbol_string}&token={IEX_CLOUD_API_TOKEN}'\r\n",
    "    data = requests.get(batch_api_call_url).json()\r\n",
    "    for symbol in symbol_string.split(','):\r\n",
    "        final_dataframe = final_dataframe.append(\r\n",
    "            pd.Series(\r\n",
    "                [\r\n",
    "                    symbol,\r\n",
    "                    data[symbol]['quote']['latestPrice'],\r\n",
    "                    data[symbol]['quote']['marketCap'],\r\n",
    "                    'N/A'\r\n",
    "                ],\r\n",
    "                index=my_columns\r\n",
    "            ),\r\n",
    "            ignore_index = True\r\n",
    "        )\r\n",
    "    \r\n",
    "final_dataframe"
   ]
  },
  {
   "cell_type": "markdown",
   "metadata": {},
   "source": [
    "calculating number of shares to buy"
   ]
  },
  {
   "cell_type": "code",
   "execution_count": 57,
   "metadata": {},
   "outputs": [
    {
     "name": "stdout",
     "output_type": "stream",
     "text": [
      "10000000.0\n"
     ]
    }
   ],
   "source": [
    "portfolio_size = input('Enter your portfolio value:')\r\n",
    "\r\n",
    "try:\r\n",
    "    val = float(portfolio_size)\r\n",
    "    print(val)\r\n",
    "except ValueError:\r\n",
    "    print(\"That's not a number \\nPlease try again: \")\r\n",
    "    portfolio_size = input('Enter your portfolio value:')\r\n",
    "    val = float(portfolio_size)"
   ]
  },
  {
   "cell_type": "code",
   "execution_count": 66,
   "metadata": {},
   "outputs": [
    {
     "data": {
      "text/html": "<div>\n<style scoped>\n    .dataframe tbody tr th:only-of-type {\n        vertical-align: middle;\n    }\n\n    .dataframe tbody tr th {\n        vertical-align: top;\n    }\n\n    .dataframe thead th {\n        text-align: right;\n    }\n</style>\n<table border=\"1\" class=\"dataframe\">\n  <thead>\n    <tr style=\"text-align: right;\">\n      <th></th>\n      <th>Ticker</th>\n      <th>Stock Price</th>\n      <th>Market Capitalisation</th>\n      <th>Number of Shares to Buy</th>\n    </tr>\n  </thead>\n  <tbody>\n    <tr>\n      <th>0</th>\n      <td>A</td>\n      <td>127.600</td>\n      <td>39795931133</td>\n      <td>155</td>\n    </tr>\n    <tr>\n      <th>1</th>\n      <td>AAL</td>\n      <td>24.730</td>\n      <td>15782362018</td>\n      <td>800</td>\n    </tr>\n    <tr>\n      <th>2</th>\n      <td>AAP</td>\n      <td>189.820</td>\n      <td>12425149917</td>\n      <td>104</td>\n    </tr>\n    <tr>\n      <th>3</th>\n      <td>AAPL</td>\n      <td>122.460</td>\n      <td>2017150221157</td>\n      <td>161</td>\n    </tr>\n    <tr>\n      <th>4</th>\n      <td>ABBV</td>\n      <td>111.250</td>\n      <td>195310630613</td>\n      <td>177</td>\n    </tr>\n    <tr>\n      <th>...</th>\n      <td>...</td>\n      <td>...</td>\n      <td>...</td>\n      <td>...</td>\n    </tr>\n    <tr>\n      <th>500</th>\n      <td>YUM</td>\n      <td>110.440</td>\n      <td>33613786569</td>\n      <td>179</td>\n    </tr>\n    <tr>\n      <th>501</th>\n      <td>ZBH</td>\n      <td>166.210</td>\n      <td>34307958353</td>\n      <td>119</td>\n    </tr>\n    <tr>\n      <th>502</th>\n      <td>ZBRA</td>\n      <td>474.563</td>\n      <td>26367444858</td>\n      <td>41</td>\n    </tr>\n    <tr>\n      <th>503</th>\n      <td>ZION</td>\n      <td>55.500</td>\n      <td>9419864944</td>\n      <td>356</td>\n    </tr>\n    <tr>\n      <th>504</th>\n      <td>ZTS</td>\n      <td>157.740</td>\n      <td>78080589693</td>\n      <td>125</td>\n    </tr>\n  </tbody>\n</table>\n<p>505 rows × 4 columns</p>\n</div>",
      "text/plain": "    Ticker  Stock Price Market Capitalisation Number of Shares to Buy\n0        A      127.600           39795931133                     155\n1      AAL       24.730           15782362018                     800\n2      AAP      189.820           12425149917                     104\n3     AAPL      122.460         2017150221157                     161\n4     ABBV      111.250          195310630613                     177\n..     ...          ...                   ...                     ...\n500    YUM      110.440           33613786569                     179\n501    ZBH      166.210           34307958353                     119\n502   ZBRA      474.563           26367444858                      41\n503   ZION       55.500            9419864944                     356\n504    ZTS      157.740           78080589693                     125\n\n[505 rows x 4 columns]"
     },
     "execution_count": 66,
     "metadata": {},
     "output_type": "execute_result"
    }
   ],
   "source": [
    "position_size = val/len(final_dataframe.index)\r\n",
    "for i in range(0, len(final_dataframe.index)):\r\n",
    "    final_dataframe.loc[i, \"Number of Shares to Buy\"] = math.floor(position_size/final_dataframe.loc[i, \"Stock Price\"])\r\n",
    "\r\n",
    "final_dataframe"
   ]
  },
  {
   "cell_type": "markdown",
   "metadata": {},
   "source": [
    "formatting our excel output"
   ]
  },
  {
   "cell_type": "code",
   "execution_count": 67,
   "metadata": {},
   "outputs": [],
   "source": [
    "writer = pd.ExcelWriter('recommended_trades.xlsx', engine='xlsxwriter')\r\n",
    "final_dataframe.to_excel(writer, sheet_name='Recommended Trades', index = False)"
   ]
  },
  {
   "cell_type": "code",
   "execution_count": 68,
   "metadata": {},
   "outputs": [],
   "source": [
    "background_color = '#0a0a23'\r\n",
    "font_color = '#ffffff'\r\n",
    "\r\n",
    "string_format = writer.book.add_format(\r\n",
    "        {\r\n",
    "            'font_color': font_color,\r\n",
    "            'bg_color': background_color,\r\n",
    "            'border': 1\r\n",
    "        }\r\n",
    "    )\r\n",
    "\r\n",
    "dollar_format = writer.book.add_format(\r\n",
    "        {\r\n",
    "            'num_format':'$0.00',\r\n",
    "            'font_color': font_color,\r\n",
    "            'bg_color': background_color,\r\n",
    "            'border': 1\r\n",
    "        }\r\n",
    "    )\r\n",
    "\r\n",
    "integer_format = writer.book.add_format(\r\n",
    "        {\r\n",
    "            'num_format':'0',\r\n",
    "            'font_color': font_color,\r\n",
    "            'bg_color': background_color,\r\n",
    "            'border': 1\r\n",
    "        }\r\n",
    "    )"
   ]
  },
  {
   "cell_type": "code",
   "execution_count": 69,
   "metadata": {},
   "outputs": [],
   "source": [
    "column_formats = { \r\n",
    "                    'A': ['Ticker', string_format],\r\n",
    "                    'B': ['Price', dollar_format],\r\n",
    "                    'C': ['Market Capitalization', dollar_format],\r\n",
    "                    'D': ['Number of Shares to Buy', integer_format]\r\n",
    "                    }\r\n",
    "\r\n",
    "for column in column_formats.keys():\r\n",
    "    writer.sheets['Recommended Trades'].set_column(f'{column}:{column}', 20, column_formats[column][1])\r\n",
    "    writer.sheets['Recommended Trades'].write(f'{column}1', column_formats[column][0], string_format)"
   ]
  },
  {
   "cell_type": "code",
   "execution_count": 70,
   "metadata": {},
   "outputs": [],
   "source": [
    "writer.save()"
   ]
  }
 ],
 "metadata": {
  "kernelspec": {
   "display_name": "Python 3.8.3 64-bit (conda)",
   "metadata": {
    "interpreter": {
     "hash": "a6c8cccf23fc189a51b8b2ae4ca3b98de763e12cce4f9033fe8d82721c91cecc"
    }
   },
   "name": "python3"
  },
  "language_info": {
   "codemirror_mode": {
    "name": "ipython",
    "version": 3
   },
   "file_extension": ".py",
   "mimetype": "text/x-python",
   "name": "python",
   "nbconvert_exporter": "python",
   "pygments_lexer": "ipython3",
   "version": "3.8.3"
  },
  "orig_nbformat": 2
 },
 "nbformat": 4,
 "nbformat_minor": 2
}